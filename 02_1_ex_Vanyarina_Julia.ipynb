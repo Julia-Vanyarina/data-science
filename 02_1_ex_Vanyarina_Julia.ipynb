{
  "cells": [
    {
      "cell_type": "markdown",
      "metadata": {
        "id": "view-in-github",
        "colab_type": "text"
      },
      "source": [
        "<a href=\"https://colab.research.google.com/github/Julia-Vanyarina/data-science/blob/main/02_1_ex_Vanyarina_Julia.ipynb\" target=\"_parent\"><img src=\"https://colab.research.google.com/assets/colab-badge.svg\" alt=\"Open In Colab\"/></a>"
      ]
    },
    {
      "cell_type": "markdown",
      "metadata": {
        "id": "P8XasWLK8pz2"
      },
      "source": [
        "# Лабораторная работа 2-1"
      ]
    },
    {
      "cell_type": "markdown",
      "metadata": {
        "collapsed": true,
        "id": "dHQIELvv8pz6"
      },
      "source": [
        "## 2.1.1: Множества\n",
        "\n",
        "Напишите функцию, которая находит пересечение двух множеств и печатает их.\n",
        "Инициализируйте два множества, например, значениями {13, 25, 37, 45, 13} и {14, 25, 38, 8, 45} и вызовите  функцию."
      ]
    },
    {
      "cell_type": "code",
      "execution_count": 1,
      "metadata": {
        "colab": {
          "base_uri": "https://localhost:8080/"
        },
        "id": "nxAf_yPc8pz7",
        "outputId": "3e17fb73-ab9e-451d-bf42-237265128bab"
      },
      "outputs": [
        {
          "output_type": "stream",
          "name": "stdout",
          "text": [
            "{25, 45}\n"
          ]
        }
      ],
      "source": [
        "def intersection_f(v1, v2):\n",
        " result = v1 & v2\n",
        " return result\n",
        "\n",
        "\n",
        "\n",
        "print(intersection_f( {13, 25, 37, 45, 13}, {14, 25, 38, 8, 45}))"
      ]
    },
    {
      "cell_type": "markdown",
      "metadata": {
        "id": "uwT8_nyg8pz9"
      },
      "source": [
        "## 2.1.2: Dictionaries\n",
        "\n",
        "* Создайте словарь с двухбуквенными кодами двух федеральных округов России и полными названиями, например, ЦТ: \tЦентральный, ЮЖ: Южный.\n",
        "* После первоначального создания словаря добавьте в словарь еще два округа.\n",
        "* Создайте второй словарь, который сопоставляет коды федеральных округов России с массивом городов в этом округе, например, ЦТ: [Москва, Тверь, Химки, Мытищи].\n",
        "* Напишите функцию, которая принимает код федеральных округов, печатает полное название округа и выводит список городов в этом округе."
      ]
    },
    {
      "cell_type": "code",
      "execution_count": 85,
      "metadata": {
        "colab": {
          "base_uri": "https://localhost:8080/"
        },
        "id": "V_ZIYJH28pz-",
        "outputId": "206cf758-6ebb-454c-8d2b-d40c9e43e949"
      },
      "outputs": [
        {
          "output_type": "stream",
          "name": "stdout",
          "text": [
            "Полное название округа: Центральный\n",
            "Список городов: ['Москва', 'Тверь', 'Химки', 'Мытищи']\n",
            "федерального округа нет в базе данных\n",
            "Полное название округа: Уральский\n",
            "Список городов: ['Екатеринбург', 'Челябинск', 'Пермь ']\n",
            "федерального округа нет в базе данных\n"
          ]
        }
      ],
      "source": [
        "#словарь с двухбуквенными кодами и полными названиями федеральных округов России\n",
        "federal = {\n",
        "    \"ЦТ\": \"Центральный\",\n",
        "    \"ЮЖ\": \"Южный\"\n",
        "}\n",
        "\n",
        "# Добавляем еще два округа в словарь\n",
        "# тут необходимо создать новый ключ. federal[key] = value\n",
        "federal[\"СЗФО\"] = \"Северо-Западный\"\n",
        "federal[\"ДФО\"] = \"Дальневосточный\"\n",
        "federal[\"УФО\"] = \"Уральский\"\n",
        "\n",
        "\n",
        "\n",
        "#словарь, сопоставляющий коды федеральных округов с массивами городов в этом округе\n",
        "cities = {\n",
        "    \"ЦТ\": [\"Москва\", \"Тверь\", \"Химки\", \"Мытищи\"],\n",
        "    \"ЮЖ\": [\"Ростов-на-Дону\", \"Волгоград\", \"Краснодар\"],\n",
        "    \"СЗФО\": [\"Санкт-Петербург\", \"Петрозаводск\", \"Мурманск\"],\n",
        "    \"ДФО\": [\"Хабаровск\", \"Владивосток\", \"Улан-Удэ\"],\n",
        "    \"УФО\": [\"Екатеринбург\",\"Челябинск\",\"Пермь \"]\n",
        "}\n",
        "\n",
        "#функция, которая принимает код федерального округа\n",
        "def info(code):\n",
        "    if code in federal:\n",
        "        print(f\"Полное название округа: {federal[code]}\")\n",
        "        print(f\"Список городов: {cities[code]}\")\n",
        "    else:\n",
        "        print(\"федерального округа нет в базе данных\")\n",
        "\n",
        "# Пример вызова функции\n",
        "info(\"ЦТ\")\n",
        "info(\"ВО\")\n",
        "info(\"УФО\")\n",
        "info(\"ПФО\")"
      ]
    },
    {
      "cell_type": "markdown",
      "metadata": {
        "id": "y5P1aZG78pz-"
      },
      "source": [
        "## 2.1.3: Objects\n",
        "\n",
        "Создайте класс `Pet` с параметрами `name, pronoun, animal,` и `pet_response`.\n",
        "\n",
        "Добавьте метод `pet()`, который печатает ответ, состоящий из элементов, например:\n",
        "\n",
        "` Лейла — кошка. Если ее погладить, Лейла мурчит».`\n",
        "` Скаут — собака. Если его погладить, Скаут виляет хвостом.`"
      ]
    },
    {
      "cell_type": "code",
      "execution_count": 3,
      "metadata": {
        "colab": {
          "base_uri": "https://localhost:8080/"
        },
        "id": "8_4H_ggi8pz_",
        "outputId": "f2a29e83-d45b-441b-9351-c4deed53abe1"
      },
      "outputs": [
        {
          "output_type": "stream",
          "name": "stdout",
          "text": [
            "Марта - кошка. Если её погладить, Марта кусается\n"
          ]
        }
      ],
      "source": [
        "class Pet:\n",
        "    def __init__(self, name, pronoun, animal, pet_response):\n",
        "        self.name = name\n",
        "        self.pronoun = pronoun\n",
        "        self.animal = animal\n",
        "        self.pet_response = pet_response\n",
        "\n",
        "    def pet(self):\n",
        "        print(f\"{self.name} - {self.animal}. Если {self.pronoun} погладить, {self.name} {self.pet_response}\")\n",
        "\n",
        "\n",
        "Marta = Pet('Марта','её','кошка','кусается')\n",
        "\n",
        "Marta.pet()"
      ]
    },
    {
      "cell_type": "markdown",
      "metadata": {
        "id": "IqQyvZ848pz_"
      },
      "source": [
        "Вот несколько примеров вызовов:"
      ]
    },
    {
      "cell_type": "code",
      "execution_count": 4,
      "metadata": {
        "colab": {
          "base_uri": "https://localhost:8080/"
        },
        "id": "n65YzHNf8pz_",
        "outputId": "44fd5aee-4859-48da-cf77-a3293c468652"
      },
      "outputs": [
        {
          "output_type": "stream",
          "name": "stdout",
          "text": [
            "Layla - cat. Если her погладить, Layla purrs\n",
            "Scout - dog. Если her погладить, Scout wags her tail\n"
          ]
        }
      ],
      "source": [
        "layla = Pet(\"Layla\", \"her\", \"cat\", \"purrs\")\n",
        "scout = Pet(\"Scout\", \"her\", \"dog\", \"wags her tail\")\n",
        "\n",
        "layla.pet()\n",
        "scout.pet()"
      ]
    },
    {
      "cell_type": "markdown",
      "metadata": {
        "collapsed": true,
        "id": "D6V0nOu38p0B"
      },
      "source": [
        "## 2.1.4: Pandas Series"
      ]
    },
    {
      "cell_type": "markdown",
      "metadata": {
        "id": "DvSk4or68p0B"
      },
      "source": [
        "Создайте `pandas series`, используя приведенные ниже списки, содержащие названия команд [Российской премьер-лиги](https://ru.wikipedia.org/wiki/%D0%A0%D0%BE%D1%81%D1%81%D0%B8%D0%B9%D1%81%D0%BA%D0%B0%D1%8F_%D0%BF%D1%80%D0%B5%D0%BC%D1%8C%D0%B5%D1%80-%D0%BB%D0%B8%D0%B3%D0%B0) и количество выигранных ими кубка премьер-лиги. Используйте имена как индексы, а победы как данные.\n",
        "\n",
        "  * После создания списка отсортируйте данные в алфавитном порядке по индексу.\n",
        "  * Распечатать обзор статистических свойств ряда. Каково среднее количество побед?\n",
        "  * Отфильтровать все команды, выигравшие менее четырех кубков премьер-лиги.\n",
        "  * В футбольной команде 11 игроков. Обновите данные, чтобы вместо количества чемпионатов,  отражалось количество побед.\n",
        "  * Предположим, что каждая  победа приносила 50 000 долларов США. Обновите данные, чтобы они содержали строку суммы в долларах, включая знак \\$. Например, для `Локомотив` это будет соответствовать:\n",
        "  ```\n",
        "  Тренер Юрий Сёмин  Локомотив $ 600000\n",
        "  ```"
      ]
    },
    {
      "cell_type": "code",
      "execution_count": 4,
      "metadata": {
        "id": "Dfc2AFna8p0B"
      },
      "outputs": [],
      "source": [
        "teams = [\"Юрий Сёмин («Локомотив»)\",\n",
        "         \"Олег Романцев («Спартак»)\",\n",
        "         \"Сергей Семак («Зенит»)\",\n",
        "         \"Валерий Газзаев («Спартак-Алания»)\",\n",
        "         \"Леонид Слуцкий (ЦСКА)\",\n",
        "         \"Курбан Бердыев («Рубин»)\",\n",
        "         \"Лучано Спаллетти («Зенит»)\",\n",
        "         \"Андре Виллаш-Боаш («Зенит»)\",\n",
        "         \"Дик Адвокат («Зенит»)\",\n",
        "         \"Массимо Каррера («Спартак»)\",\n",
        "         \"Зико (ЦСКА)\",\n",
        "         \"Георгий Ярцев («Спартак»)\"]\n",
        "wins = [12,11,10,10,7,5,4,3,2,2,1,1]"
      ]
    },
    {
      "cell_type": "code",
      "execution_count": 5,
      "metadata": {
        "id": "CcTDNy2e8p0C"
      },
      "outputs": [],
      "source": [
        "import pandas as pd\n",
        "import numpy as np"
      ]
    },
    {
      "cell_type": "code",
      "source": [
        "teams_series = pd.Series(wins, index=teams)\n"
      ],
      "metadata": {
        "id": "lDZDdwWHSgmA"
      },
      "execution_count": 6,
      "outputs": []
    },
    {
      "cell_type": "markdown",
      "source": [
        "# **1. отсортируйте данные в алфавитном порядке по индексу**"
      ],
      "metadata": {
        "id": "U5ybTGh1No5M"
      }
    },
    {
      "cell_type": "code",
      "source": [
        "data = teams_series.sort_index()\n",
        "print(data)"
      ],
      "metadata": {
        "colab": {
          "base_uri": "https://localhost:8080/"
        },
        "id": "Oj4p4_Q2Ss9u",
        "outputId": "ce339577-f55b-4c37-8f98-749c96f4a14b"
      },
      "execution_count": 7,
      "outputs": [
        {
          "output_type": "stream",
          "name": "stdout",
          "text": [
            "Андре Виллаш-Боаш («Зенит»)            3\n",
            "Валерий Газзаев («Спартак-Алания»)    10\n",
            "Георгий Ярцев («Спартак»)              1\n",
            "Дик Адвокат («Зенит»)                  2\n",
            "Зико (ЦСКА)                            1\n",
            "Курбан Бердыев («Рубин»)               5\n",
            "Леонид Слуцкий (ЦСКА)                  7\n",
            "Лучано Спаллетти («Зенит»)             4\n",
            "Массимо Каррера («Спартак»)            2\n",
            "Олег Романцев («Спартак»)             11\n",
            "Сергей Семак («Зенит»)                10\n",
            "Юрий Сёмин («Локомотив»)              12\n",
            "dtype: int64\n"
          ]
        }
      ]
    },
    {
      "cell_type": "code",
      "source": [
        "data.info()"
      ],
      "metadata": {
        "colab": {
          "base_uri": "https://localhost:8080/"
        },
        "id": "wL3jMJGRV_wD",
        "outputId": "0a09cd37-d9c9-4f0b-f363-e6f7ba34b691"
      },
      "execution_count": 8,
      "outputs": [
        {
          "output_type": "stream",
          "name": "stdout",
          "text": [
            "<class 'pandas.core.series.Series'>\n",
            "Index: 12 entries, Андре Виллаш-Боаш («Зенит») to Юрий Сёмин («Локомотив»)\n",
            "Series name: None\n",
            "Non-Null Count  Dtype\n",
            "--------------  -----\n",
            "12 non-null     int64\n",
            "dtypes: int64(1)\n",
            "memory usage: 192.0+ bytes\n"
          ]
        }
      ]
    },
    {
      "cell_type": "markdown",
      "source": [
        "# **2. Распечатать обзор статистических свойств ряда. Каково среднее количество побед?**"
      ],
      "metadata": {
        "id": "RYJA_R8oNygO"
      }
    },
    {
      "cell_type": "code",
      "source": [
        "print(\"Обзор статистических свойств ряда:\")\n",
        "print(data.describe())"
      ],
      "metadata": {
        "colab": {
          "base_uri": "https://localhost:8080/"
        },
        "id": "qHRZxeZiVEYJ",
        "outputId": "3ce8096e-cc0d-406d-8f84-6ba7a6a482df"
      },
      "execution_count": 9,
      "outputs": [
        {
          "output_type": "stream",
          "name": "stdout",
          "text": [
            "Обзор статистических свойств ряда:\n",
            "count    12.000000\n",
            "mean      5.666667\n",
            "std       4.141439\n",
            "min       1.000000\n",
            "25%       2.000000\n",
            "50%       4.500000\n",
            "75%      10.000000\n",
            "max      12.000000\n",
            "dtype: float64\n"
          ]
        }
      ]
    },
    {
      "cell_type": "code",
      "source": [
        "mean_wins = data.mean()\n",
        "print(\"Среднее количество побед: \", mean_wins)"
      ],
      "metadata": {
        "colab": {
          "base_uri": "https://localhost:8080/"
        },
        "id": "fCtxtQO5VInw",
        "outputId": "f79b962c-4d49-4507-d54d-62f1f201b03c"
      },
      "execution_count": 10,
      "outputs": [
        {
          "output_type": "stream",
          "name": "stdout",
          "text": [
            "Среднее количество побед:  5.666666666666667\n"
          ]
        }
      ]
    },
    {
      "cell_type": "markdown",
      "source": [
        "# **3. Отфильтровать все команды, выигравшие менее четырех кубков премьер-лиги**"
      ],
      "metadata": {
        "id": "wWdR3bktN5Q-"
      }
    },
    {
      "cell_type": "code",
      "source": [
        "# Фильтрация команд с менее чем 4 победами\n",
        "teams_4 = data[data >= 4]\n",
        "print(\"\\nКоманды с количеством побед не менее 4:\")\n",
        "print(teams_4)"
      ],
      "metadata": {
        "colab": {
          "base_uri": "https://localhost:8080/"
        },
        "id": "Ot9z-zwaVSRk",
        "outputId": "63b7efc0-098d-4596-9aea-d871fb8a9c4b"
      },
      "execution_count": 11,
      "outputs": [
        {
          "output_type": "stream",
          "name": "stdout",
          "text": [
            "\n",
            "Команды с количеством побед не менее 4:\n",
            "Валерий Газзаев («Спартак-Алания»)    10\n",
            "Курбан Бердыев («Рубин»)               5\n",
            "Леонид Слуцкий (ЦСКА)                  7\n",
            "Лучано Спаллетти («Зенит»)             4\n",
            "Олег Романцев («Спартак»)             11\n",
            "Сергей Семак («Зенит»)                10\n",
            "Юрий Сёмин («Локомотив»)              12\n",
            "dtype: int64\n"
          ]
        }
      ]
    },
    {
      "cell_type": "markdown",
      "source": [
        "# **4. В футбольной команде 11 игроков. Обновите данные, чтобы вместо количества чемпионатов, отражалось количество побед.**"
      ],
      "metadata": {
        "id": "KUq2PhRKOCrQ"
      }
    },
    {
      "cell_type": "markdown",
      "source": [
        "Изначально данных с кличеством чемпионатов не было,поэтому нужно достать данные с википедии,чтобы выполнить это задание"
      ],
      "metadata": {
        "id": "ZvqY7sVeOZzK"
      }
    },
    {
      "cell_type": "code",
      "source": [
        "import pandas as pd\n",
        "import requests\n",
        "from bs4 import BeautifulSoup\n",
        "\n",
        "# Ссылка на страницу Википедии\n",
        "url = \"https://ru.wikipedia.org/wiki/Российская_премьер-лига\"\n",
        "\n",
        "# Загрузка содержимого страницы\n",
        "response = requests.get(url)\n",
        "soup = BeautifulSoup(response.content, 'html.parser')\n",
        "\n",
        "# Нахождение таблицы \"Тренеры\"\n",
        "table = soup.find_all('table', class_='wikitable')[2]  # Индекс 2 для таблицы \"Тренеры\"\n",
        "\n",
        "# Чтение таблицы\n",
        "df = pd.read_html(str(table))[0]\n",
        "\n",
        "# Вывод датафрейма\n",
        "df1 = df.sort_values(by='Тренер').reset_index(drop=True)\n",
        "print(df1)"
      ],
      "metadata": {
        "colab": {
          "base_uri": "https://localhost:8080/"
        },
        "id": "4UhZToISYdWp",
        "outputId": "52bf287b-22c1-4294-e004-f5ad7a8e485a"
      },
      "execution_count": 66,
      "outputs": [
        {
          "output_type": "stream",
          "name": "stdout",
          "text": [
            "     №                                    Тренер  Всего  Чемпионат  Кубок  \\\n",
            "0   13            Анатолий Бышовец («Локомотив»)      1          0      1   \n",
            "1   13                Анатолий Давыдов («Зенит»)      1          0      1   \n",
            "2    8               Андре Виллаш-Боаш («Зенит»)      3          1      1   \n",
            "3   25                        Артур Жорже (ЦСКА)      1          0      0   \n",
            "4   13                    Ваит Талгаев («Терек»)      1          0      1   \n",
            "5    4  Валерий Газзаев («Спартак-Алания», ЦСКА)     10          4      4   \n",
            "6   25                  Виктор Гончаренко (ЦСКА)      1          0      0   \n",
            "7   13                   Владимир Федотов (ЦСКА)      1          0      1   \n",
            "8   24              Властимил Петржела («Зенит»)      1          0      0   \n",
            "9   12                 Георгий Ярцев («Спартак»)      1          1      0   \n",
            "10   9                     Дик Адвокат («Зенит»)      2          1      0   \n",
            "11  13                Дмитрий Парфёнов («Тосно»)      1          0      1   \n",
            "12  11                               Зико (ЦСКА)      2          0      1   \n",
            "13  13            Игорь Черевченко («Локомотив»)      1          0      1   \n",
            "14  13              Константин Бесков («Динамо»)      1          0      1   \n",
            "15   6                  Курбан Бердыев («Рубин»)      5          2      1   \n",
            "16   5                     Леонид Слуцкий (ЦСКА)      7          3      2   \n",
            "17   7                Лучано Спаллетти («Зенит»)      4          2      1   \n",
            "18  13               Марко Николич («Локомотив»)      1          0      1   \n",
            "19   9               Массимо Каррера («Спартак»)      2          1      0   \n",
            "20  13                Миодраг Божович («Ростов»)      1          0      1   \n",
            "21  25                   Мирча Луческу («Зенит»)      1          0      0   \n",
            "22   2                 Олег Романцев («Спартак»)     11          8      3   \n",
            "23  13                  Паоло Ваноли («Спартак»)      1          0      1   \n",
            "24   3                    Сергей Семак («Зенит»)     10          5      1   \n",
            "25  13                  Юрий Миронов («Торпедо»)      1          0      1   \n",
            "26   1                  Юрий Сёмин («Локомотив»)     12          3      6   \n",
            "\n",
            "    Кубок лиги  Суперкубок  \n",
            "0            0           0  \n",
            "1            0           0  \n",
            "2            0           1  \n",
            "3            0           1  \n",
            "4            0           0  \n",
            "5            0           2  \n",
            "6            0           1  \n",
            "7            0           0  \n",
            "8            1           0  \n",
            "9            0           0  \n",
            "10           0           1  \n",
            "11           0           0  \n",
            "12           0           1  \n",
            "13           0           0  \n",
            "14           0           0  \n",
            "15           0           2  \n",
            "16           0           2  \n",
            "17           0           1  \n",
            "18           0           0  \n",
            "19           0           1  \n",
            "20           0           0  \n",
            "21           0           1  \n",
            "22           0           0  \n",
            "23           0           0  \n",
            "24           0           4  \n",
            "25           0           0  \n",
            "26           0           3  \n"
          ]
        }
      ]
    },
    {
      "cell_type": "code",
      "source": [
        "# так же выполним обзор статистических характеристик данных\n",
        "print(\"Обзор статистических свойств ряда:\")\n",
        "print(df1.describe())"
      ],
      "metadata": {
        "colab": {
          "base_uri": "https://localhost:8080/"
        },
        "id": "HPYGfyGgPJDg",
        "outputId": "854243b8-9bcc-4b80-83ef-4cd83f05458f"
      },
      "execution_count": 68,
      "outputs": [
        {
          "output_type": "stream",
          "name": "stdout",
          "text": [
            "Обзор статистических свойств ряда:\n",
            "               №      Всего  Чемпионат      Кубок  Кубок лиги  Суперкубок\n",
            "count  27.000000  27.000000  27.000000  27.000000   27.000000   27.000000\n",
            "mean   11.814815   3.111111   1.148148   1.148148    0.037037    0.777778\n",
            "std     6.714147   3.566223   1.955342   1.321529    0.192450    1.050031\n",
            "min     1.000000   1.000000   0.000000   0.000000    0.000000    0.000000\n",
            "25%     7.500000   1.000000   0.000000   0.500000    0.000000    0.000000\n",
            "50%    13.000000   1.000000   0.000000   1.000000    0.000000    0.000000\n",
            "75%    13.000000   3.500000   1.500000   1.000000    0.000000    1.000000\n",
            "max    25.000000  12.000000   8.000000   6.000000    1.000000    4.000000\n"
          ]
        }
      ]
    },
    {
      "cell_type": "markdown",
      "source": [
        "Удалим ненужные столбцы и оставим только количество побед,переименуя столбец \"Всего\" в \"Победы\""
      ],
      "metadata": {
        "id": "rlvqZ8CbQWWI"
      }
    },
    {
      "cell_type": "code",
      "source": [
        "df1.drop(['№'],axis=1,inplace=True)\n",
        "df1.drop(['Чемпионат'],axis=1,inplace=True)\n",
        "df1.drop(['Кубок'],axis=1,inplace=True)\n",
        "df1.drop(['Кубок лиги'],axis=1,inplace=True)\n",
        "df1.drop(['Суперкубок'],axis=1,inplace=True)\n",
        "df1.head()"
      ],
      "metadata": {
        "colab": {
          "base_uri": "https://localhost:8080/",
          "height": 206
        },
        "id": "MVumdfDgQet4",
        "outputId": "e58d7b48-2eb5-43f3-e108-dbd2a0af9ae1"
      },
      "execution_count": 69,
      "outputs": [
        {
          "output_type": "execute_result",
          "data": {
            "text/plain": [
              "                           Тренер  Всего\n",
              "0  Анатолий Бышовец («Локомотив»)      1\n",
              "1      Анатолий Давыдов («Зенит»)      1\n",
              "2     Андре Виллаш-Боаш («Зенит»)      3\n",
              "3              Артур Жорже (ЦСКА)      1\n",
              "4          Ваит Талгаев («Терек»)      1"
            ],
            "text/html": [
              "\n",
              "  <div id=\"df-fad12af3-8872-4c7b-b6e3-764b62b42353\" class=\"colab-df-container\">\n",
              "    <div>\n",
              "<style scoped>\n",
              "    .dataframe tbody tr th:only-of-type {\n",
              "        vertical-align: middle;\n",
              "    }\n",
              "\n",
              "    .dataframe tbody tr th {\n",
              "        vertical-align: top;\n",
              "    }\n",
              "\n",
              "    .dataframe thead th {\n",
              "        text-align: right;\n",
              "    }\n",
              "</style>\n",
              "<table border=\"1\" class=\"dataframe\">\n",
              "  <thead>\n",
              "    <tr style=\"text-align: right;\">\n",
              "      <th></th>\n",
              "      <th>Тренер</th>\n",
              "      <th>Всего</th>\n",
              "    </tr>\n",
              "  </thead>\n",
              "  <tbody>\n",
              "    <tr>\n",
              "      <th>0</th>\n",
              "      <td>Анатолий Бышовец («Локомотив»)</td>\n",
              "      <td>1</td>\n",
              "    </tr>\n",
              "    <tr>\n",
              "      <th>1</th>\n",
              "      <td>Анатолий Давыдов («Зенит»)</td>\n",
              "      <td>1</td>\n",
              "    </tr>\n",
              "    <tr>\n",
              "      <th>2</th>\n",
              "      <td>Андре Виллаш-Боаш («Зенит»)</td>\n",
              "      <td>3</td>\n",
              "    </tr>\n",
              "    <tr>\n",
              "      <th>3</th>\n",
              "      <td>Артур Жорже (ЦСКА)</td>\n",
              "      <td>1</td>\n",
              "    </tr>\n",
              "    <tr>\n",
              "      <th>4</th>\n",
              "      <td>Ваит Талгаев («Терек»)</td>\n",
              "      <td>1</td>\n",
              "    </tr>\n",
              "  </tbody>\n",
              "</table>\n",
              "</div>\n",
              "    <div class=\"colab-df-buttons\">\n",
              "\n",
              "  <div class=\"colab-df-container\">\n",
              "    <button class=\"colab-df-convert\" onclick=\"convertToInteractive('df-fad12af3-8872-4c7b-b6e3-764b62b42353')\"\n",
              "            title=\"Convert this dataframe to an interactive table.\"\n",
              "            style=\"display:none;\">\n",
              "\n",
              "  <svg xmlns=\"http://www.w3.org/2000/svg\" height=\"24px\" viewBox=\"0 -960 960 960\">\n",
              "    <path d=\"M120-120v-720h720v720H120Zm60-500h600v-160H180v160Zm220 220h160v-160H400v160Zm0 220h160v-160H400v160ZM180-400h160v-160H180v160Zm440 0h160v-160H620v160ZM180-180h160v-160H180v160Zm440 0h160v-160H620v160Z\"/>\n",
              "  </svg>\n",
              "    </button>\n",
              "\n",
              "  <style>\n",
              "    .colab-df-container {\n",
              "      display:flex;\n",
              "      gap: 12px;\n",
              "    }\n",
              "\n",
              "    .colab-df-convert {\n",
              "      background-color: #E8F0FE;\n",
              "      border: none;\n",
              "      border-radius: 50%;\n",
              "      cursor: pointer;\n",
              "      display: none;\n",
              "      fill: #1967D2;\n",
              "      height: 32px;\n",
              "      padding: 0 0 0 0;\n",
              "      width: 32px;\n",
              "    }\n",
              "\n",
              "    .colab-df-convert:hover {\n",
              "      background-color: #E2EBFA;\n",
              "      box-shadow: 0px 1px 2px rgba(60, 64, 67, 0.3), 0px 1px 3px 1px rgba(60, 64, 67, 0.15);\n",
              "      fill: #174EA6;\n",
              "    }\n",
              "\n",
              "    .colab-df-buttons div {\n",
              "      margin-bottom: 4px;\n",
              "    }\n",
              "\n",
              "    [theme=dark] .colab-df-convert {\n",
              "      background-color: #3B4455;\n",
              "      fill: #D2E3FC;\n",
              "    }\n",
              "\n",
              "    [theme=dark] .colab-df-convert:hover {\n",
              "      background-color: #434B5C;\n",
              "      box-shadow: 0px 1px 3px 1px rgba(0, 0, 0, 0.15);\n",
              "      filter: drop-shadow(0px 1px 2px rgba(0, 0, 0, 0.3));\n",
              "      fill: #FFFFFF;\n",
              "    }\n",
              "  </style>\n",
              "\n",
              "    <script>\n",
              "      const buttonEl =\n",
              "        document.querySelector('#df-fad12af3-8872-4c7b-b6e3-764b62b42353 button.colab-df-convert');\n",
              "      buttonEl.style.display =\n",
              "        google.colab.kernel.accessAllowed ? 'block' : 'none';\n",
              "\n",
              "      async function convertToInteractive(key) {\n",
              "        const element = document.querySelector('#df-fad12af3-8872-4c7b-b6e3-764b62b42353');\n",
              "        const dataTable =\n",
              "          await google.colab.kernel.invokeFunction('convertToInteractive',\n",
              "                                                    [key], {});\n",
              "        if (!dataTable) return;\n",
              "\n",
              "        const docLinkHtml = 'Like what you see? Visit the ' +\n",
              "          '<a target=\"_blank\" href=https://colab.research.google.com/notebooks/data_table.ipynb>data table notebook</a>'\n",
              "          + ' to learn more about interactive tables.';\n",
              "        element.innerHTML = '';\n",
              "        dataTable['output_type'] = 'display_data';\n",
              "        await google.colab.output.renderOutput(dataTable, element);\n",
              "        const docLink = document.createElement('div');\n",
              "        docLink.innerHTML = docLinkHtml;\n",
              "        element.appendChild(docLink);\n",
              "      }\n",
              "    </script>\n",
              "  </div>\n",
              "\n",
              "\n",
              "<div id=\"df-c59f778f-17e9-45b6-9035-dec13400f62e\">\n",
              "  <button class=\"colab-df-quickchart\" onclick=\"quickchart('df-c59f778f-17e9-45b6-9035-dec13400f62e')\"\n",
              "            title=\"Suggest charts\"\n",
              "            style=\"display:none;\">\n",
              "\n",
              "<svg xmlns=\"http://www.w3.org/2000/svg\" height=\"24px\"viewBox=\"0 0 24 24\"\n",
              "     width=\"24px\">\n",
              "    <g>\n",
              "        <path d=\"M19 3H5c-1.1 0-2 .9-2 2v14c0 1.1.9 2 2 2h14c1.1 0 2-.9 2-2V5c0-1.1-.9-2-2-2zM9 17H7v-7h2v7zm4 0h-2V7h2v10zm4 0h-2v-4h2v4z\"/>\n",
              "    </g>\n",
              "</svg>\n",
              "  </button>\n",
              "\n",
              "<style>\n",
              "  .colab-df-quickchart {\n",
              "      --bg-color: #E8F0FE;\n",
              "      --fill-color: #1967D2;\n",
              "      --hover-bg-color: #E2EBFA;\n",
              "      --hover-fill-color: #174EA6;\n",
              "      --disabled-fill-color: #AAA;\n",
              "      --disabled-bg-color: #DDD;\n",
              "  }\n",
              "\n",
              "  [theme=dark] .colab-df-quickchart {\n",
              "      --bg-color: #3B4455;\n",
              "      --fill-color: #D2E3FC;\n",
              "      --hover-bg-color: #434B5C;\n",
              "      --hover-fill-color: #FFFFFF;\n",
              "      --disabled-bg-color: #3B4455;\n",
              "      --disabled-fill-color: #666;\n",
              "  }\n",
              "\n",
              "  .colab-df-quickchart {\n",
              "    background-color: var(--bg-color);\n",
              "    border: none;\n",
              "    border-radius: 50%;\n",
              "    cursor: pointer;\n",
              "    display: none;\n",
              "    fill: var(--fill-color);\n",
              "    height: 32px;\n",
              "    padding: 0;\n",
              "    width: 32px;\n",
              "  }\n",
              "\n",
              "  .colab-df-quickchart:hover {\n",
              "    background-color: var(--hover-bg-color);\n",
              "    box-shadow: 0 1px 2px rgba(60, 64, 67, 0.3), 0 1px 3px 1px rgba(60, 64, 67, 0.15);\n",
              "    fill: var(--button-hover-fill-color);\n",
              "  }\n",
              "\n",
              "  .colab-df-quickchart-complete:disabled,\n",
              "  .colab-df-quickchart-complete:disabled:hover {\n",
              "    background-color: var(--disabled-bg-color);\n",
              "    fill: var(--disabled-fill-color);\n",
              "    box-shadow: none;\n",
              "  }\n",
              "\n",
              "  .colab-df-spinner {\n",
              "    border: 2px solid var(--fill-color);\n",
              "    border-color: transparent;\n",
              "    border-bottom-color: var(--fill-color);\n",
              "    animation:\n",
              "      spin 1s steps(1) infinite;\n",
              "  }\n",
              "\n",
              "  @keyframes spin {\n",
              "    0% {\n",
              "      border-color: transparent;\n",
              "      border-bottom-color: var(--fill-color);\n",
              "      border-left-color: var(--fill-color);\n",
              "    }\n",
              "    20% {\n",
              "      border-color: transparent;\n",
              "      border-left-color: var(--fill-color);\n",
              "      border-top-color: var(--fill-color);\n",
              "    }\n",
              "    30% {\n",
              "      border-color: transparent;\n",
              "      border-left-color: var(--fill-color);\n",
              "      border-top-color: var(--fill-color);\n",
              "      border-right-color: var(--fill-color);\n",
              "    }\n",
              "    40% {\n",
              "      border-color: transparent;\n",
              "      border-right-color: var(--fill-color);\n",
              "      border-top-color: var(--fill-color);\n",
              "    }\n",
              "    60% {\n",
              "      border-color: transparent;\n",
              "      border-right-color: var(--fill-color);\n",
              "    }\n",
              "    80% {\n",
              "      border-color: transparent;\n",
              "      border-right-color: var(--fill-color);\n",
              "      border-bottom-color: var(--fill-color);\n",
              "    }\n",
              "    90% {\n",
              "      border-color: transparent;\n",
              "      border-bottom-color: var(--fill-color);\n",
              "    }\n",
              "  }\n",
              "</style>\n",
              "\n",
              "  <script>\n",
              "    async function quickchart(key) {\n",
              "      const quickchartButtonEl =\n",
              "        document.querySelector('#' + key + ' button');\n",
              "      quickchartButtonEl.disabled = true;  // To prevent multiple clicks.\n",
              "      quickchartButtonEl.classList.add('colab-df-spinner');\n",
              "      try {\n",
              "        const charts = await google.colab.kernel.invokeFunction(\n",
              "            'suggestCharts', [key], {});\n",
              "      } catch (error) {\n",
              "        console.error('Error during call to suggestCharts:', error);\n",
              "      }\n",
              "      quickchartButtonEl.classList.remove('colab-df-spinner');\n",
              "      quickchartButtonEl.classList.add('colab-df-quickchart-complete');\n",
              "    }\n",
              "    (() => {\n",
              "      let quickchartButtonEl =\n",
              "        document.querySelector('#df-c59f778f-17e9-45b6-9035-dec13400f62e button');\n",
              "      quickchartButtonEl.style.display =\n",
              "        google.colab.kernel.accessAllowed ? 'block' : 'none';\n",
              "    })();\n",
              "  </script>\n",
              "</div>\n",
              "    </div>\n",
              "  </div>\n"
            ],
            "application/vnd.google.colaboratory.intrinsic+json": {
              "type": "dataframe",
              "variable_name": "df1",
              "summary": "{\n  \"name\": \"df1\",\n  \"rows\": 27,\n  \"fields\": [\n    {\n      \"column\": \"\\u0422\\u0440\\u0435\\u043d\\u0435\\u0440\",\n      \"properties\": {\n        \"dtype\": \"string\",\n        \"num_unique_values\": 27,\n        \"samples\": [\n          \"\\u0412\\u043b\\u0430\\u0441\\u0442\\u0438\\u043c\\u0438\\u043b \\u041f\\u0435\\u0442\\u0440\\u0436\\u0435\\u043b\\u0430 (\\u00ab\\u0417\\u0435\\u043d\\u0438\\u0442\\u00bb)\",\n          \"\\u0418\\u0433\\u043e\\u0440\\u044c \\u0427\\u0435\\u0440\\u0435\\u0432\\u0447\\u0435\\u043d\\u043a\\u043e (\\u00ab\\u041b\\u043e\\u043a\\u043e\\u043c\\u043e\\u0442\\u0438\\u0432\\u00bb)\",\n          \"\\u0413\\u0435\\u043e\\u0440\\u0433\\u0438\\u0439 \\u042f\\u0440\\u0446\\u0435\\u0432 (\\u00ab\\u0421\\u043f\\u0430\\u0440\\u0442\\u0430\\u043a\\u00bb)\"\n        ],\n        \"semantic_type\": \"\",\n        \"description\": \"\"\n      }\n    },\n    {\n      \"column\": \"\\u0412\\u0441\\u0435\\u0433\\u043e\",\n      \"properties\": {\n        \"dtype\": \"number\",\n        \"std\": 3,\n        \"min\": 1,\n        \"max\": 12,\n        \"num_unique_values\": 9,\n        \"samples\": [\n          11,\n          3,\n          7\n        ],\n        \"semantic_type\": \"\",\n        \"description\": \"\"\n      }\n    }\n  ]\n}"
            }
          },
          "metadata": {},
          "execution_count": 69
        }
      ]
    },
    {
      "cell_type": "code",
      "source": [
        "df1.rename(columns={'Всего': 'wins'}, inplace=True)\n",
        "df1.head()"
      ],
      "metadata": {
        "colab": {
          "base_uri": "https://localhost:8080/",
          "height": 206
        },
        "id": "CdzLN0ocQU6l",
        "outputId": "1d766fed-85c3-4542-dd38-0ccbf0d24ea0"
      },
      "execution_count": 76,
      "outputs": [
        {
          "output_type": "execute_result",
          "data": {
            "text/plain": [
              "                           Тренер  wins\n",
              "0  Анатолий Бышовец («Локомотив»)     1\n",
              "1      Анатолий Давыдов («Зенит»)     1\n",
              "2     Андре Виллаш-Боаш («Зенит»)     3\n",
              "3              Артур Жорже (ЦСКА)     1\n",
              "4          Ваит Талгаев («Терек»)     1"
            ],
            "text/html": [
              "\n",
              "  <div id=\"df-01b6cd8e-1aa8-44e0-a8d3-a56caeb118a1\" class=\"colab-df-container\">\n",
              "    <div>\n",
              "<style scoped>\n",
              "    .dataframe tbody tr th:only-of-type {\n",
              "        vertical-align: middle;\n",
              "    }\n",
              "\n",
              "    .dataframe tbody tr th {\n",
              "        vertical-align: top;\n",
              "    }\n",
              "\n",
              "    .dataframe thead th {\n",
              "        text-align: right;\n",
              "    }\n",
              "</style>\n",
              "<table border=\"1\" class=\"dataframe\">\n",
              "  <thead>\n",
              "    <tr style=\"text-align: right;\">\n",
              "      <th></th>\n",
              "      <th>Тренер</th>\n",
              "      <th>wins</th>\n",
              "    </tr>\n",
              "  </thead>\n",
              "  <tbody>\n",
              "    <tr>\n",
              "      <th>0</th>\n",
              "      <td>Анатолий Бышовец («Локомотив»)</td>\n",
              "      <td>1</td>\n",
              "    </tr>\n",
              "    <tr>\n",
              "      <th>1</th>\n",
              "      <td>Анатолий Давыдов («Зенит»)</td>\n",
              "      <td>1</td>\n",
              "    </tr>\n",
              "    <tr>\n",
              "      <th>2</th>\n",
              "      <td>Андре Виллаш-Боаш («Зенит»)</td>\n",
              "      <td>3</td>\n",
              "    </tr>\n",
              "    <tr>\n",
              "      <th>3</th>\n",
              "      <td>Артур Жорже (ЦСКА)</td>\n",
              "      <td>1</td>\n",
              "    </tr>\n",
              "    <tr>\n",
              "      <th>4</th>\n",
              "      <td>Ваит Талгаев («Терек»)</td>\n",
              "      <td>1</td>\n",
              "    </tr>\n",
              "  </tbody>\n",
              "</table>\n",
              "</div>\n",
              "    <div class=\"colab-df-buttons\">\n",
              "\n",
              "  <div class=\"colab-df-container\">\n",
              "    <button class=\"colab-df-convert\" onclick=\"convertToInteractive('df-01b6cd8e-1aa8-44e0-a8d3-a56caeb118a1')\"\n",
              "            title=\"Convert this dataframe to an interactive table.\"\n",
              "            style=\"display:none;\">\n",
              "\n",
              "  <svg xmlns=\"http://www.w3.org/2000/svg\" height=\"24px\" viewBox=\"0 -960 960 960\">\n",
              "    <path d=\"M120-120v-720h720v720H120Zm60-500h600v-160H180v160Zm220 220h160v-160H400v160Zm0 220h160v-160H400v160ZM180-400h160v-160H180v160Zm440 0h160v-160H620v160ZM180-180h160v-160H180v160Zm440 0h160v-160H620v160Z\"/>\n",
              "  </svg>\n",
              "    </button>\n",
              "\n",
              "  <style>\n",
              "    .colab-df-container {\n",
              "      display:flex;\n",
              "      gap: 12px;\n",
              "    }\n",
              "\n",
              "    .colab-df-convert {\n",
              "      background-color: #E8F0FE;\n",
              "      border: none;\n",
              "      border-radius: 50%;\n",
              "      cursor: pointer;\n",
              "      display: none;\n",
              "      fill: #1967D2;\n",
              "      height: 32px;\n",
              "      padding: 0 0 0 0;\n",
              "      width: 32px;\n",
              "    }\n",
              "\n",
              "    .colab-df-convert:hover {\n",
              "      background-color: #E2EBFA;\n",
              "      box-shadow: 0px 1px 2px rgba(60, 64, 67, 0.3), 0px 1px 3px 1px rgba(60, 64, 67, 0.15);\n",
              "      fill: #174EA6;\n",
              "    }\n",
              "\n",
              "    .colab-df-buttons div {\n",
              "      margin-bottom: 4px;\n",
              "    }\n",
              "\n",
              "    [theme=dark] .colab-df-convert {\n",
              "      background-color: #3B4455;\n",
              "      fill: #D2E3FC;\n",
              "    }\n",
              "\n",
              "    [theme=dark] .colab-df-convert:hover {\n",
              "      background-color: #434B5C;\n",
              "      box-shadow: 0px 1px 3px 1px rgba(0, 0, 0, 0.15);\n",
              "      filter: drop-shadow(0px 1px 2px rgba(0, 0, 0, 0.3));\n",
              "      fill: #FFFFFF;\n",
              "    }\n",
              "  </style>\n",
              "\n",
              "    <script>\n",
              "      const buttonEl =\n",
              "        document.querySelector('#df-01b6cd8e-1aa8-44e0-a8d3-a56caeb118a1 button.colab-df-convert');\n",
              "      buttonEl.style.display =\n",
              "        google.colab.kernel.accessAllowed ? 'block' : 'none';\n",
              "\n",
              "      async function convertToInteractive(key) {\n",
              "        const element = document.querySelector('#df-01b6cd8e-1aa8-44e0-a8d3-a56caeb118a1');\n",
              "        const dataTable =\n",
              "          await google.colab.kernel.invokeFunction('convertToInteractive',\n",
              "                                                    [key], {});\n",
              "        if (!dataTable) return;\n",
              "\n",
              "        const docLinkHtml = 'Like what you see? Visit the ' +\n",
              "          '<a target=\"_blank\" href=https://colab.research.google.com/notebooks/data_table.ipynb>data table notebook</a>'\n",
              "          + ' to learn more about interactive tables.';\n",
              "        element.innerHTML = '';\n",
              "        dataTable['output_type'] = 'display_data';\n",
              "        await google.colab.output.renderOutput(dataTable, element);\n",
              "        const docLink = document.createElement('div');\n",
              "        docLink.innerHTML = docLinkHtml;\n",
              "        element.appendChild(docLink);\n",
              "      }\n",
              "    </script>\n",
              "  </div>\n",
              "\n",
              "\n",
              "<div id=\"df-0b7c471d-5a73-4ce2-9aad-7eb7f929c100\">\n",
              "  <button class=\"colab-df-quickchart\" onclick=\"quickchart('df-0b7c471d-5a73-4ce2-9aad-7eb7f929c100')\"\n",
              "            title=\"Suggest charts\"\n",
              "            style=\"display:none;\">\n",
              "\n",
              "<svg xmlns=\"http://www.w3.org/2000/svg\" height=\"24px\"viewBox=\"0 0 24 24\"\n",
              "     width=\"24px\">\n",
              "    <g>\n",
              "        <path d=\"M19 3H5c-1.1 0-2 .9-2 2v14c0 1.1.9 2 2 2h14c1.1 0 2-.9 2-2V5c0-1.1-.9-2-2-2zM9 17H7v-7h2v7zm4 0h-2V7h2v10zm4 0h-2v-4h2v4z\"/>\n",
              "    </g>\n",
              "</svg>\n",
              "  </button>\n",
              "\n",
              "<style>\n",
              "  .colab-df-quickchart {\n",
              "      --bg-color: #E8F0FE;\n",
              "      --fill-color: #1967D2;\n",
              "      --hover-bg-color: #E2EBFA;\n",
              "      --hover-fill-color: #174EA6;\n",
              "      --disabled-fill-color: #AAA;\n",
              "      --disabled-bg-color: #DDD;\n",
              "  }\n",
              "\n",
              "  [theme=dark] .colab-df-quickchart {\n",
              "      --bg-color: #3B4455;\n",
              "      --fill-color: #D2E3FC;\n",
              "      --hover-bg-color: #434B5C;\n",
              "      --hover-fill-color: #FFFFFF;\n",
              "      --disabled-bg-color: #3B4455;\n",
              "      --disabled-fill-color: #666;\n",
              "  }\n",
              "\n",
              "  .colab-df-quickchart {\n",
              "    background-color: var(--bg-color);\n",
              "    border: none;\n",
              "    border-radius: 50%;\n",
              "    cursor: pointer;\n",
              "    display: none;\n",
              "    fill: var(--fill-color);\n",
              "    height: 32px;\n",
              "    padding: 0;\n",
              "    width: 32px;\n",
              "  }\n",
              "\n",
              "  .colab-df-quickchart:hover {\n",
              "    background-color: var(--hover-bg-color);\n",
              "    box-shadow: 0 1px 2px rgba(60, 64, 67, 0.3), 0 1px 3px 1px rgba(60, 64, 67, 0.15);\n",
              "    fill: var(--button-hover-fill-color);\n",
              "  }\n",
              "\n",
              "  .colab-df-quickchart-complete:disabled,\n",
              "  .colab-df-quickchart-complete:disabled:hover {\n",
              "    background-color: var(--disabled-bg-color);\n",
              "    fill: var(--disabled-fill-color);\n",
              "    box-shadow: none;\n",
              "  }\n",
              "\n",
              "  .colab-df-spinner {\n",
              "    border: 2px solid var(--fill-color);\n",
              "    border-color: transparent;\n",
              "    border-bottom-color: var(--fill-color);\n",
              "    animation:\n",
              "      spin 1s steps(1) infinite;\n",
              "  }\n",
              "\n",
              "  @keyframes spin {\n",
              "    0% {\n",
              "      border-color: transparent;\n",
              "      border-bottom-color: var(--fill-color);\n",
              "      border-left-color: var(--fill-color);\n",
              "    }\n",
              "    20% {\n",
              "      border-color: transparent;\n",
              "      border-left-color: var(--fill-color);\n",
              "      border-top-color: var(--fill-color);\n",
              "    }\n",
              "    30% {\n",
              "      border-color: transparent;\n",
              "      border-left-color: var(--fill-color);\n",
              "      border-top-color: var(--fill-color);\n",
              "      border-right-color: var(--fill-color);\n",
              "    }\n",
              "    40% {\n",
              "      border-color: transparent;\n",
              "      border-right-color: var(--fill-color);\n",
              "      border-top-color: var(--fill-color);\n",
              "    }\n",
              "    60% {\n",
              "      border-color: transparent;\n",
              "      border-right-color: var(--fill-color);\n",
              "    }\n",
              "    80% {\n",
              "      border-color: transparent;\n",
              "      border-right-color: var(--fill-color);\n",
              "      border-bottom-color: var(--fill-color);\n",
              "    }\n",
              "    90% {\n",
              "      border-color: transparent;\n",
              "      border-bottom-color: var(--fill-color);\n",
              "    }\n",
              "  }\n",
              "</style>\n",
              "\n",
              "  <script>\n",
              "    async function quickchart(key) {\n",
              "      const quickchartButtonEl =\n",
              "        document.querySelector('#' + key + ' button');\n",
              "      quickchartButtonEl.disabled = true;  // To prevent multiple clicks.\n",
              "      quickchartButtonEl.classList.add('colab-df-spinner');\n",
              "      try {\n",
              "        const charts = await google.colab.kernel.invokeFunction(\n",
              "            'suggestCharts', [key], {});\n",
              "      } catch (error) {\n",
              "        console.error('Error during call to suggestCharts:', error);\n",
              "      }\n",
              "      quickchartButtonEl.classList.remove('colab-df-spinner');\n",
              "      quickchartButtonEl.classList.add('colab-df-quickchart-complete');\n",
              "    }\n",
              "    (() => {\n",
              "      let quickchartButtonEl =\n",
              "        document.querySelector('#df-0b7c471d-5a73-4ce2-9aad-7eb7f929c100 button');\n",
              "      quickchartButtonEl.style.display =\n",
              "        google.colab.kernel.accessAllowed ? 'block' : 'none';\n",
              "    })();\n",
              "  </script>\n",
              "</div>\n",
              "    </div>\n",
              "  </div>\n"
            ],
            "application/vnd.google.colaboratory.intrinsic+json": {
              "type": "dataframe",
              "variable_name": "df1",
              "summary": "{\n  \"name\": \"df1\",\n  \"rows\": 27,\n  \"fields\": [\n    {\n      \"column\": \"\\u0422\\u0440\\u0435\\u043d\\u0435\\u0440\",\n      \"properties\": {\n        \"dtype\": \"string\",\n        \"num_unique_values\": 27,\n        \"samples\": [\n          \"\\u0412\\u043b\\u0430\\u0441\\u0442\\u0438\\u043c\\u0438\\u043b \\u041f\\u0435\\u0442\\u0440\\u0436\\u0435\\u043b\\u0430 (\\u00ab\\u0417\\u0435\\u043d\\u0438\\u0442\\u00bb)\",\n          \"\\u0418\\u0433\\u043e\\u0440\\u044c \\u0427\\u0435\\u0440\\u0435\\u0432\\u0447\\u0435\\u043d\\u043a\\u043e (\\u00ab\\u041b\\u043e\\u043a\\u043e\\u043c\\u043e\\u0442\\u0438\\u0432\\u00bb)\",\n          \"\\u0413\\u0435\\u043e\\u0440\\u0433\\u0438\\u0439 \\u042f\\u0440\\u0446\\u0435\\u0432 (\\u00ab\\u0421\\u043f\\u0430\\u0440\\u0442\\u0430\\u043a\\u00bb)\"\n        ],\n        \"semantic_type\": \"\",\n        \"description\": \"\"\n      }\n    },\n    {\n      \"column\": \"wins\",\n      \"properties\": {\n        \"dtype\": \"number\",\n        \"std\": 3,\n        \"min\": 1,\n        \"max\": 12,\n        \"num_unique_values\": 9,\n        \"samples\": [\n          11,\n          3,\n          7\n        ],\n        \"semantic_type\": \"\",\n        \"description\": \"\"\n      }\n    }\n  ]\n}"
            }
          },
          "metadata": {},
          "execution_count": 76
        }
      ]
    },
    {
      "cell_type": "markdown",
      "source": [
        "# **5. Предположим, что каждая победа приносила 50 000 долларов США. Обновите данные, чтобы они содержали строку суммы в долларах, включая знак $. Например, для Локомотив это будет соответствовать:**"
      ],
      "metadata": {
        "id": "jEMhu0k_Sfxe"
      }
    },
    {
      "cell_type": "markdown",
      "source": [
        "*Тренер Юрий Сёмин  Локомотив $ 600000*"
      ],
      "metadata": {
        "id": "393iTeliSiBG"
      }
    },
    {
      "cell_type": "markdown",
      "source": [
        "с помощью функции посчитаем денежный выигрыш для каждого тренера"
      ],
      "metadata": {
        "id": "_JIqfwgCU3Pw"
      }
    },
    {
      "cell_type": "code",
      "source": [
        "def cash_for_trainer(wins):\n",
        "  return '$' + str(wins * 50000)\n"
      ],
      "metadata": {
        "id": "_JO3SUCzU1tg"
      },
      "execution_count": 77,
      "outputs": []
    },
    {
      "cell_type": "code",
      "source": [
        "df1['cash'] = df1['wins'].apply(cash_for_trainer)"
      ],
      "metadata": {
        "id": "gqrjFG2gWYHI"
      },
      "execution_count": 78,
      "outputs": []
    },
    {
      "cell_type": "code",
      "source": [
        "df1.head()"
      ],
      "metadata": {
        "colab": {
          "base_uri": "https://localhost:8080/",
          "height": 206
        },
        "id": "v4hKQ_uSWjpr",
        "outputId": "55592097-c1c4-44d6-b9f3-e5bffa3c6c81"
      },
      "execution_count": 79,
      "outputs": [
        {
          "output_type": "execute_result",
          "data": {
            "text/plain": [
              "                           Тренер  wins     cash\n",
              "0  Анатолий Бышовец («Локомотив»)     1   $50000\n",
              "1      Анатолий Давыдов («Зенит»)     1   $50000\n",
              "2     Андре Виллаш-Боаш («Зенит»)     3  $150000\n",
              "3              Артур Жорже (ЦСКА)     1   $50000\n",
              "4          Ваит Талгаев («Терек»)     1   $50000"
            ],
            "text/html": [
              "\n",
              "  <div id=\"df-2448851f-1a36-4b45-b3e7-418d15189606\" class=\"colab-df-container\">\n",
              "    <div>\n",
              "<style scoped>\n",
              "    .dataframe tbody tr th:only-of-type {\n",
              "        vertical-align: middle;\n",
              "    }\n",
              "\n",
              "    .dataframe tbody tr th {\n",
              "        vertical-align: top;\n",
              "    }\n",
              "\n",
              "    .dataframe thead th {\n",
              "        text-align: right;\n",
              "    }\n",
              "</style>\n",
              "<table border=\"1\" class=\"dataframe\">\n",
              "  <thead>\n",
              "    <tr style=\"text-align: right;\">\n",
              "      <th></th>\n",
              "      <th>Тренер</th>\n",
              "      <th>wins</th>\n",
              "      <th>cash</th>\n",
              "    </tr>\n",
              "  </thead>\n",
              "  <tbody>\n",
              "    <tr>\n",
              "      <th>0</th>\n",
              "      <td>Анатолий Бышовец («Локомотив»)</td>\n",
              "      <td>1</td>\n",
              "      <td>$50000</td>\n",
              "    </tr>\n",
              "    <tr>\n",
              "      <th>1</th>\n",
              "      <td>Анатолий Давыдов («Зенит»)</td>\n",
              "      <td>1</td>\n",
              "      <td>$50000</td>\n",
              "    </tr>\n",
              "    <tr>\n",
              "      <th>2</th>\n",
              "      <td>Андре Виллаш-Боаш («Зенит»)</td>\n",
              "      <td>3</td>\n",
              "      <td>$150000</td>\n",
              "    </tr>\n",
              "    <tr>\n",
              "      <th>3</th>\n",
              "      <td>Артур Жорже (ЦСКА)</td>\n",
              "      <td>1</td>\n",
              "      <td>$50000</td>\n",
              "    </tr>\n",
              "    <tr>\n",
              "      <th>4</th>\n",
              "      <td>Ваит Талгаев («Терек»)</td>\n",
              "      <td>1</td>\n",
              "      <td>$50000</td>\n",
              "    </tr>\n",
              "  </tbody>\n",
              "</table>\n",
              "</div>\n",
              "    <div class=\"colab-df-buttons\">\n",
              "\n",
              "  <div class=\"colab-df-container\">\n",
              "    <button class=\"colab-df-convert\" onclick=\"convertToInteractive('df-2448851f-1a36-4b45-b3e7-418d15189606')\"\n",
              "            title=\"Convert this dataframe to an interactive table.\"\n",
              "            style=\"display:none;\">\n",
              "\n",
              "  <svg xmlns=\"http://www.w3.org/2000/svg\" height=\"24px\" viewBox=\"0 -960 960 960\">\n",
              "    <path d=\"M120-120v-720h720v720H120Zm60-500h600v-160H180v160Zm220 220h160v-160H400v160Zm0 220h160v-160H400v160ZM180-400h160v-160H180v160Zm440 0h160v-160H620v160ZM180-180h160v-160H180v160Zm440 0h160v-160H620v160Z\"/>\n",
              "  </svg>\n",
              "    </button>\n",
              "\n",
              "  <style>\n",
              "    .colab-df-container {\n",
              "      display:flex;\n",
              "      gap: 12px;\n",
              "    }\n",
              "\n",
              "    .colab-df-convert {\n",
              "      background-color: #E8F0FE;\n",
              "      border: none;\n",
              "      border-radius: 50%;\n",
              "      cursor: pointer;\n",
              "      display: none;\n",
              "      fill: #1967D2;\n",
              "      height: 32px;\n",
              "      padding: 0 0 0 0;\n",
              "      width: 32px;\n",
              "    }\n",
              "\n",
              "    .colab-df-convert:hover {\n",
              "      background-color: #E2EBFA;\n",
              "      box-shadow: 0px 1px 2px rgba(60, 64, 67, 0.3), 0px 1px 3px 1px rgba(60, 64, 67, 0.15);\n",
              "      fill: #174EA6;\n",
              "    }\n",
              "\n",
              "    .colab-df-buttons div {\n",
              "      margin-bottom: 4px;\n",
              "    }\n",
              "\n",
              "    [theme=dark] .colab-df-convert {\n",
              "      background-color: #3B4455;\n",
              "      fill: #D2E3FC;\n",
              "    }\n",
              "\n",
              "    [theme=dark] .colab-df-convert:hover {\n",
              "      background-color: #434B5C;\n",
              "      box-shadow: 0px 1px 3px 1px rgba(0, 0, 0, 0.15);\n",
              "      filter: drop-shadow(0px 1px 2px rgba(0, 0, 0, 0.3));\n",
              "      fill: #FFFFFF;\n",
              "    }\n",
              "  </style>\n",
              "\n",
              "    <script>\n",
              "      const buttonEl =\n",
              "        document.querySelector('#df-2448851f-1a36-4b45-b3e7-418d15189606 button.colab-df-convert');\n",
              "      buttonEl.style.display =\n",
              "        google.colab.kernel.accessAllowed ? 'block' : 'none';\n",
              "\n",
              "      async function convertToInteractive(key) {\n",
              "        const element = document.querySelector('#df-2448851f-1a36-4b45-b3e7-418d15189606');\n",
              "        const dataTable =\n",
              "          await google.colab.kernel.invokeFunction('convertToInteractive',\n",
              "                                                    [key], {});\n",
              "        if (!dataTable) return;\n",
              "\n",
              "        const docLinkHtml = 'Like what you see? Visit the ' +\n",
              "          '<a target=\"_blank\" href=https://colab.research.google.com/notebooks/data_table.ipynb>data table notebook</a>'\n",
              "          + ' to learn more about interactive tables.';\n",
              "        element.innerHTML = '';\n",
              "        dataTable['output_type'] = 'display_data';\n",
              "        await google.colab.output.renderOutput(dataTable, element);\n",
              "        const docLink = document.createElement('div');\n",
              "        docLink.innerHTML = docLinkHtml;\n",
              "        element.appendChild(docLink);\n",
              "      }\n",
              "    </script>\n",
              "  </div>\n",
              "\n",
              "\n",
              "<div id=\"df-ff007f28-5f88-4611-8a23-0ff3d08c09e5\">\n",
              "  <button class=\"colab-df-quickchart\" onclick=\"quickchart('df-ff007f28-5f88-4611-8a23-0ff3d08c09e5')\"\n",
              "            title=\"Suggest charts\"\n",
              "            style=\"display:none;\">\n",
              "\n",
              "<svg xmlns=\"http://www.w3.org/2000/svg\" height=\"24px\"viewBox=\"0 0 24 24\"\n",
              "     width=\"24px\">\n",
              "    <g>\n",
              "        <path d=\"M19 3H5c-1.1 0-2 .9-2 2v14c0 1.1.9 2 2 2h14c1.1 0 2-.9 2-2V5c0-1.1-.9-2-2-2zM9 17H7v-7h2v7zm4 0h-2V7h2v10zm4 0h-2v-4h2v4z\"/>\n",
              "    </g>\n",
              "</svg>\n",
              "  </button>\n",
              "\n",
              "<style>\n",
              "  .colab-df-quickchart {\n",
              "      --bg-color: #E8F0FE;\n",
              "      --fill-color: #1967D2;\n",
              "      --hover-bg-color: #E2EBFA;\n",
              "      --hover-fill-color: #174EA6;\n",
              "      --disabled-fill-color: #AAA;\n",
              "      --disabled-bg-color: #DDD;\n",
              "  }\n",
              "\n",
              "  [theme=dark] .colab-df-quickchart {\n",
              "      --bg-color: #3B4455;\n",
              "      --fill-color: #D2E3FC;\n",
              "      --hover-bg-color: #434B5C;\n",
              "      --hover-fill-color: #FFFFFF;\n",
              "      --disabled-bg-color: #3B4455;\n",
              "      --disabled-fill-color: #666;\n",
              "  }\n",
              "\n",
              "  .colab-df-quickchart {\n",
              "    background-color: var(--bg-color);\n",
              "    border: none;\n",
              "    border-radius: 50%;\n",
              "    cursor: pointer;\n",
              "    display: none;\n",
              "    fill: var(--fill-color);\n",
              "    height: 32px;\n",
              "    padding: 0;\n",
              "    width: 32px;\n",
              "  }\n",
              "\n",
              "  .colab-df-quickchart:hover {\n",
              "    background-color: var(--hover-bg-color);\n",
              "    box-shadow: 0 1px 2px rgba(60, 64, 67, 0.3), 0 1px 3px 1px rgba(60, 64, 67, 0.15);\n",
              "    fill: var(--button-hover-fill-color);\n",
              "  }\n",
              "\n",
              "  .colab-df-quickchart-complete:disabled,\n",
              "  .colab-df-quickchart-complete:disabled:hover {\n",
              "    background-color: var(--disabled-bg-color);\n",
              "    fill: var(--disabled-fill-color);\n",
              "    box-shadow: none;\n",
              "  }\n",
              "\n",
              "  .colab-df-spinner {\n",
              "    border: 2px solid var(--fill-color);\n",
              "    border-color: transparent;\n",
              "    border-bottom-color: var(--fill-color);\n",
              "    animation:\n",
              "      spin 1s steps(1) infinite;\n",
              "  }\n",
              "\n",
              "  @keyframes spin {\n",
              "    0% {\n",
              "      border-color: transparent;\n",
              "      border-bottom-color: var(--fill-color);\n",
              "      border-left-color: var(--fill-color);\n",
              "    }\n",
              "    20% {\n",
              "      border-color: transparent;\n",
              "      border-left-color: var(--fill-color);\n",
              "      border-top-color: var(--fill-color);\n",
              "    }\n",
              "    30% {\n",
              "      border-color: transparent;\n",
              "      border-left-color: var(--fill-color);\n",
              "      border-top-color: var(--fill-color);\n",
              "      border-right-color: var(--fill-color);\n",
              "    }\n",
              "    40% {\n",
              "      border-color: transparent;\n",
              "      border-right-color: var(--fill-color);\n",
              "      border-top-color: var(--fill-color);\n",
              "    }\n",
              "    60% {\n",
              "      border-color: transparent;\n",
              "      border-right-color: var(--fill-color);\n",
              "    }\n",
              "    80% {\n",
              "      border-color: transparent;\n",
              "      border-right-color: var(--fill-color);\n",
              "      border-bottom-color: var(--fill-color);\n",
              "    }\n",
              "    90% {\n",
              "      border-color: transparent;\n",
              "      border-bottom-color: var(--fill-color);\n",
              "    }\n",
              "  }\n",
              "</style>\n",
              "\n",
              "  <script>\n",
              "    async function quickchart(key) {\n",
              "      const quickchartButtonEl =\n",
              "        document.querySelector('#' + key + ' button');\n",
              "      quickchartButtonEl.disabled = true;  // To prevent multiple clicks.\n",
              "      quickchartButtonEl.classList.add('colab-df-spinner');\n",
              "      try {\n",
              "        const charts = await google.colab.kernel.invokeFunction(\n",
              "            'suggestCharts', [key], {});\n",
              "      } catch (error) {\n",
              "        console.error('Error during call to suggestCharts:', error);\n",
              "      }\n",
              "      quickchartButtonEl.classList.remove('colab-df-spinner');\n",
              "      quickchartButtonEl.classList.add('colab-df-quickchart-complete');\n",
              "    }\n",
              "    (() => {\n",
              "      let quickchartButtonEl =\n",
              "        document.querySelector('#df-ff007f28-5f88-4611-8a23-0ff3d08c09e5 button');\n",
              "      quickchartButtonEl.style.display =\n",
              "        google.colab.kernel.accessAllowed ? 'block' : 'none';\n",
              "    })();\n",
              "  </script>\n",
              "</div>\n",
              "    </div>\n",
              "  </div>\n"
            ],
            "application/vnd.google.colaboratory.intrinsic+json": {
              "type": "dataframe",
              "variable_name": "df1",
              "summary": "{\n  \"name\": \"df1\",\n  \"rows\": 27,\n  \"fields\": [\n    {\n      \"column\": \"\\u0422\\u0440\\u0435\\u043d\\u0435\\u0440\",\n      \"properties\": {\n        \"dtype\": \"string\",\n        \"num_unique_values\": 27,\n        \"samples\": [\n          \"\\u0412\\u043b\\u0430\\u0441\\u0442\\u0438\\u043c\\u0438\\u043b \\u041f\\u0435\\u0442\\u0440\\u0436\\u0435\\u043b\\u0430 (\\u00ab\\u0417\\u0435\\u043d\\u0438\\u0442\\u00bb)\",\n          \"\\u0418\\u0433\\u043e\\u0440\\u044c \\u0427\\u0435\\u0440\\u0435\\u0432\\u0447\\u0435\\u043d\\u043a\\u043e (\\u00ab\\u041b\\u043e\\u043a\\u043e\\u043c\\u043e\\u0442\\u0438\\u0432\\u00bb)\",\n          \"\\u0413\\u0435\\u043e\\u0440\\u0433\\u0438\\u0439 \\u042f\\u0440\\u0446\\u0435\\u0432 (\\u00ab\\u0421\\u043f\\u0430\\u0440\\u0442\\u0430\\u043a\\u00bb)\"\n        ],\n        \"semantic_type\": \"\",\n        \"description\": \"\"\n      }\n    },\n    {\n      \"column\": \"wins\",\n      \"properties\": {\n        \"dtype\": \"number\",\n        \"std\": 3,\n        \"min\": 1,\n        \"max\": 12,\n        \"num_unique_values\": 9,\n        \"samples\": [\n          11,\n          3,\n          7\n        ],\n        \"semantic_type\": \"\",\n        \"description\": \"\"\n      }\n    },\n    {\n      \"column\": \"cash\",\n      \"properties\": {\n        \"dtype\": \"category\",\n        \"num_unique_values\": 9,\n        \"samples\": [\n          \"$550000\",\n          \"$150000\",\n          \"$350000\"\n        ],\n        \"semantic_type\": \"\",\n        \"description\": \"\"\n      }\n    }\n  ]\n}"
            }
          },
          "metadata": {},
          "execution_count": 79
        }
      ]
    },
    {
      "cell_type": "markdown",
      "source": [
        "Чтобы вывести предложение по индексу строки используем loc, который используется для получения группы строк и столбцов по меткам или логическому массиву в DataFrame. Он принимает только метки индекса"
      ],
      "metadata": {
        "id": "SdqHAtddafTp"
      }
    },
    {
      "cell_type": "code",
      "source": [
        "class Trainer:\n",
        "    def __init__(self, df1, row_index):\n",
        "        self.trainer = df1.loc[row_index, 'Тренер']\n",
        "        self.cash = df1.loc[row_index, 'cash']\n",
        "\n",
        "    def trainer_info(self):\n",
        "        print(\"Тренер\", self.trainer, \"$\" + str(self.cash))"
      ],
      "metadata": {
        "id": "QGYWoPC2dWRe"
      },
      "execution_count": 82,
      "outputs": []
    },
    {
      "cell_type": "code",
      "source": [
        "row_index = 1\n",
        "my_trainer = Trainer(df1, row_index)\n",
        "my_trainer.trainer_info()"
      ],
      "metadata": {
        "colab": {
          "base_uri": "https://localhost:8080/"
        },
        "id": "aET34QqNdYdC",
        "outputId": "47f25b78-5489-46ec-8447-6a8a882219cf"
      },
      "execution_count": 83,
      "outputs": [
        {
          "output_type": "stream",
          "name": "stdout",
          "text": [
            "Тренер Анатолий Давыдов («Зенит») $$50000\n"
          ]
        }
      ]
    }
  ],
  "metadata": {
    "anaconda-cloud": {},
    "kernelspec": {
      "display_name": "Python 3",
      "language": "python",
      "name": "python3"
    },
    "language_info": {
      "codemirror_mode": {
        "name": "ipython",
        "version": 3
      },
      "file_extension": ".py",
      "mimetype": "text/x-python",
      "name": "python",
      "nbconvert_exporter": "python",
      "pygments_lexer": "ipython3",
      "version": "3.9.13"
    },
    "colab": {
      "provenance": [],
      "include_colab_link": true
    }
  },
  "nbformat": 4,
  "nbformat_minor": 0
}