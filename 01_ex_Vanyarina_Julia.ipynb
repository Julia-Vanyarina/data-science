{
  "cells": [
    {
      "cell_type": "markdown",
      "metadata": {
        "id": "view-in-github",
        "colab_type": "text"
      },
      "source": [
        "<a href=\"https://colab.research.google.com/github/Julia-Vanyarina/data-science/blob/main/01_ex_Vanyarina_Julia.ipynb\" target=\"_parent\"><img src=\"https://colab.research.google.com/assets/colab-badge.svg\" alt=\"Open In Colab\"/></a>"
      ]
    },
    {
      "cell_type": "markdown",
      "metadata": {
        "id": "Jyrf8xk3k6Ys"
      },
      "source": [
        "# Лабораторная работа к лекции 1\n",
        "Ваше имя: Ванярина Юлия\n",
        "\n",
        "Ваш адрес электронной почты: VanyarinaYA368@mgpu.ru\n"
      ]
    },
    {
      "cell_type": "markdown",
      "metadata": {
        "id": "86N7viRzk6Yt"
      },
      "source": [
        "## Упражнение 1.1. Типы данных и операции\n",
        "1. Определите две переменные и присвойте первой целое число, а второй — число с плавающей запятой. Определите новую переменную и присвойте сумму двух предыдущих переменных. Каков тип данных третьей переменной?\n",
        "2. Переназначьте переменную с другим типом данных, например, возьмите одну из числовых переменных и присвойте ей строку. Какой новый тип данных?\n",
        "3. Посмотрите, что произойдет, если вы попытаетесь добавить строку к строке.\n",
        "4. Посмотрите, что произойдет, если вы добавите строку к числу с плавающей запятой или целому числу."
      ]
    },
    {
      "cell_type": "code",
      "execution_count": null,
      "metadata": {
        "id": "9ZgZCUPNk6Yt",
        "colab": {
          "base_uri": "https://localhost:8080/"
        },
        "outputId": "da0cad25-d3f8-4c62-a6c7-7f2191138de2"
      },
      "outputs": [
        {
          "output_type": "stream",
          "name": "stdout",
          "text": [
            "<class 'float'> 1 ответ\n",
            "<class 'str'> 2 ответ\n",
            "JuliaVanyarina 3 ответ\n",
            "12.530000000000001\n",
            "57.53\n"
          ]
        }
      ],
      "source": [
        "# Ваш код\n",
        "# Определение двух переменных\n",
        "first_integer = 5\n",
        "second_float = 7.53\n",
        "\n",
        "# Вычисление суммы двух переменных\n",
        "new_variable = first_integer + second_float\n",
        "\n",
        "# Тип данных третьей переменной\n",
        "print(type(new_variable), '1 ответ')\n",
        "\n",
        "# Переназначение переменной с другим типом данных (из числа в строку)\n",
        "first_integer = str(first_integer)\n",
        "print(type(first_integer), '2 ответ')\n",
        "\n",
        "# Примеры операций со строками и числами\n",
        "# Добавление строки к строке\n",
        "\n",
        "\n",
        "\n",
        "string_name_1 = \"Julia\"\n",
        "string_name_2 = \"Vanyarina\"\n",
        "str_sum = string_name_1 + string_name_2\n",
        "print(str_sum, '3 ответ')\n",
        "\n",
        "# 4 задание\n",
        "#new_sum = first_integer + second_float;\n",
        "#TypeError: can only concatenate str (not \"float\") to str\n",
        "\n",
        "# Добавление строки к числу с плавающей запятой или целому числу\n",
        "# Пример 1: добавление строки к числу с плавающей запятой\n",
        "float_result = second_float + float(first_integer)  # К числу с плавающей запятой добавляем число, преобразованное из строки\n",
        "print(float_result)\n",
        "\n",
        "# Пример 2: добавление строки к целому числу\n",
        "integer_result = first_integer + str(second_float) # К строке добавляем число с плавающей запятой, преобразованное в строку\n",
        "print(integer_result)"
      ]
    },
    {
      "cell_type": "markdown",
      "metadata": {
        "id": "ZMoobyT-k6Yu"
      },
      "source": [
        "## Упражнение 1.2. Запуск программ\n",
        "\n",
        "  * Создайте новый файл Python(или файл с расширением `.ipynb`) и используйте функцию `double_number` в качестве шаблона. Измените код, чтобы добавить два числа вместо удвоения одного числа.\n",
        "  * Можете ли вы догадаться, что произойдет, если изменить отступ? Выполните данное действие.\n",
        "  * Попробуйте, что произойдет, если вы напечатаете `a` в самом конце программы. Пояснить, что происходит?\n",
        " [Текст ссылки](https://)"
      ]
    },
    {
      "cell_type": "code",
      "source": [
        "# Если изменить отступ, например,\n",
        "#сдвинуть внутренний блок кода добавления чисел на один\n",
        "#уровень вправо, то Python выдаст ошибку, так как это нарушит\n",
        "#структуру кода и он не будет правильно интерпретирован.\n",
        "\n",
        "# Если мы напечатаем значение переменной \"a\" в конце программы,\n",
        "#то Python выдаст ошибку, так как переменная \"a\" не определена.\n",
        "#Переменная \"a\" ни разу не создавалась или присваивалась в программе,\n",
        "#поэтому обращение к ней вызовет ошибку \"NameError: name 'a' is not defined\".\n",
        "\n",
        "\n",
        "# double_number она принимает два аргумента и возвращает кортеж\n",
        "#с удвоенными значениями обоих аргументов.\n",
        "\n",
        "def double_number(num1, num2):\n",
        "    result = num1 * 2\n",
        "    result1 = num2 * 2\n",
        "    return (result, result1)\n",
        "\n",
        "#Функция def addnumbers(num1, num2) принимает\n",
        "#два аргумента num1 и num2, после чего складывает их вместе и возвращает результат\n",
        "# Добавляем два числа вместо удвоения одного числа\n",
        "def add_numbers(num1, num2):\n",
        "    result = num1 + num2\n",
        "    return result\n",
        "\n",
        "# Печать результата вызова функции add_numbers\n",
        "print(add_numbers(4, 31))\n",
        "# Печать результата вызова функции double_number\n",
        "print(double_number(4, 31))"
      ],
      "metadata": {
        "colab": {
          "base_uri": "https://localhost:8080/"
        },
        "id": "LXhn3fN1YihJ",
        "outputId": "bcdb3c01-aa58-4aa4-8c78-4720310cbb7b"
      },
      "execution_count": null,
      "outputs": [
        {
          "output_type": "stream",
          "name": "stdout",
          "text": [
            "35\n",
            "(8, 62)\n"
          ]
        }
      ]
    },
    {
      "cell_type": "markdown",
      "metadata": {
        "id": "15GtjpzGk6Yu"
      },
      "source": [
        "## Упражнение 1.3. Создание ячеек, выполнение кода\n",
        "\n",
        "1. Создайте новую ячейку кода ниже, где вы определите переменные, содержащие ваше имя, ваш возраст  и вашу специальность.\n",
        "2. Создайте еще одну ячейку, использующую эти переменные, и выведите объединенную строку с указанием вашего имени, специальности и возраста в годах, месяцах и днях (при условии, что сегодня ваш день рождения). Вывод должен выглядеть так:\n",
        "\n",
        "```\n",
        "Имя: Кот-ученый, Специальность: Бизнес-Информатика, Возраст: 18 лет, или 216 месяцев, или 6480 дней..\n",
        "```"
      ]
    },
    {
      "cell_type": "code",
      "source": [
        "# Создание переменных\n",
        "name = \"Julia\"\n",
        "age = 21\n",
        "specialty = \"Business Informatics\"\n",
        "\n",
        "# Вывод информации\n",
        "print(\"Имя:\", name, \"Специальность:\", specialty, \"Возраст:\", age, \"лет, или\", age * 12, \"месяцев, или\", age * 365, \"дней\")"
      ],
      "metadata": {
        "colab": {
          "base_uri": "https://localhost:8080/"
        },
        "id": "sLvTnLZLCDrH",
        "outputId": "1d05a555-0386-40a9-a074-c6d45ce8da95"
      },
      "execution_count": null,
      "outputs": [
        {
          "output_type": "stream",
          "name": "stdout",
          "text": [
            "Имя: Julia Специальность: Business Informatics Возраст: 21 лет, или 252 месяцев, или 7665 дней\n"
          ]
        }
      ]
    },
    {
      "cell_type": "markdown",
      "metadata": {
        "id": "bPTBzjXhk6Yu"
      },
      "source": [
        "## Упражнение 1.4: Функции\n",
        "Напишите функцию, которая\n",
        "  * принимает две числовые переменные\n",
        "  * умножает их друг на друга\n",
        "  * делит их на числовую переменную, определенную в области видимости вне функции\n",
        "  * и возвращает результат.\n",
        "\n",
        "Выведите результат функции для трех разных наборов входных переменных."
      ]
    },
    {
      "cell_type": "code",
      "execution_count": null,
      "metadata": {
        "id": "z7DKIUQCk6Yu",
        "colab": {
          "base_uri": "https://localhost:8080/"
        },
        "outputId": "1b54c2ba-e836-4c06-9c2e-c8b94327d78a"
      },
      "outputs": [
        {
          "output_type": "stream",
          "name": "stdout",
          "text": [
            "Результат для 675 и 34: 4590.0\n",
            "Результат для 5 и 5: 5.0\n",
            "Результат для 45 и -0.433: -3.9869999999999997\n"
          ]
        }
      ],
      "source": [
        "# Ваш код\n",
        "# Числовая переменная, определенная вне функции\n",
        "van = 5\n",
        "\n",
        "# Функция, выполняющая умножение и деление\n",
        "def multiply_and_van(v1, v2):\n",
        "    result = (v1 * v2) / van\n",
        "    return result\n",
        "\n",
        "# Вызов функции для трех разных наборов входных переменных\n",
        "result1 = multiply_and_van(675, 34)\n",
        "print(\"Результат для 675 и 34:\", result1)\n",
        "\n",
        "result2 = multiply_and_van(5, 5)\n",
        "print(\"Результат для 5 и 5:\", result2)\n",
        "\n",
        "result3 = multiply_and_van(45, -0.443)\n",
        "print(\"Результат для 45 и -0.433:\", result3)"
      ]
    },
    {
      "cell_type": "markdown",
      "metadata": {
        "id": "Q3bYbKQY5Q8A"
      },
      "source": [
        "## Упражнение 1.5*\n",
        "\n",
        "Есть некоторые данные о количестве книг, прочитанных разными людьми, работающими в книжном магазине Владимира. Создайте код Python, который учитывает каждого человека и выводит, сколько книг он прочитал. Если кто-то прочитал 0 книг, выведите «___ не читал ни одной книги!» вместо количества книг."
      ]
    },
    {
      "cell_type": "code",
      "execution_count": null,
      "metadata": {
        "colab": {
          "base_uri": "https://localhost:8080/"
        },
        "id": "6tk4YG7a5Q8B",
        "outputId": "e191c2d5-5bf7-438e-9a26-3c2e5b8b231f"
      },
      "outputs": [
        {
          "output_type": "stream",
          "name": "stdout",
          "text": [
            "Krishnang прочитал 12 книг\n",
            "Steve прочитал 6 книг\n",
            "Jimmy не читал ни одной книги!\n",
            "Mary прочитал 7 книг\n",
            "Divya прочитал 4 книг\n",
            "Robert прочитал 10 книг\n",
            "Yulia прочитал 15 книг\n"
          ]
        }
      ],
      "source": [
        "people = ['Krishnang', 'Steve', 'Jimmy', 'Mary', 'Divya', 'Robert', 'Yulia']\n",
        "books_read = [12, 6, 0, 7, 4, 10, 15]\n",
        "\n",
        "\n",
        "for person, books in zip(people, books_read):\n",
        "    if books == 0:\n",
        "        print(person, \"не читал ни одной книги!\")\n",
        "    else:\n",
        "        print(person, \"прочитал\", books, \"книг\")"
      ]
    },
    {
      "cell_type": "markdown",
      "metadata": {
        "id": "XCHTKhjK5Q8C"
      },
      "source": [
        "Существует несколько способов решить эту задачу: можно изучить функцию `zip()`, использовать `enumerate()`, `range` и `len` или использовать другие методы. Чтобы напечатать имена и значения, вы можете использовать конкатенацию строк (+), форматирование f-строки или другие методы."
      ]
    },
    {
      "cell_type": "code",
      "source": [
        "people = ['Krishnang', 'Steve', 'Jimmy', 'Mary', 'Divya', 'Robert', 'Yulia']\n",
        "books_read = [12, 6, 0, 7, 4, 10, 15]\n",
        "\n",
        "#встроенная функция enumerate()\n",
        "for index, (person, books) in enumerate(zip(people, books_read)):\n",
        "    if books == 0:\n",
        "        print(f\" {person} не читал ни одной книги!\")\n",
        "    else:\n",
        "        print(f\" {person} прочитал {books} книг\")"
      ],
      "metadata": {
        "colab": {
          "base_uri": "https://localhost:8080/"
        },
        "id": "47a3fy6VKfLB",
        "outputId": "3254e21a-cc74-4f36-ab9d-0b79a201c7db"
      },
      "execution_count": null,
      "outputs": [
        {
          "output_type": "stream",
          "name": "stdout",
          "text": [
            " Krishnang прочитал 12 книг\n",
            " Steve прочитал 6 книг\n",
            " Jimmy не читал ни одной книги!\n",
            " Mary прочитал 7 книг\n",
            " Divya прочитал 4 книг\n",
            " Robert прочитал 10 книг\n",
            " Yulia прочитал 15 книг\n"
          ]
        }
      ]
    },
    {
      "cell_type": "code",
      "source": [
        "people = ['Krishnang', 'Steve', 'Jimmy', 'Mary', 'Divya', 'Robert', 'Yulia']\n",
        "books_read = [12, 6, 0, 7, 4, 10, 15]\n",
        "#цикл for с диапазоном\n",
        "for i in range(len(people)):\n",
        "    person = people[i]\n",
        "    books = books_read[i]\n",
        "    if books == 0:\n",
        "        print(f\" {person} не читал ни одной книги!\")\n",
        "    else:\n",
        "        print(f\" {person} прочитал {books} книг\")"
      ],
      "metadata": {
        "colab": {
          "base_uri": "https://localhost:8080/"
        },
        "id": "c3wcV6JLK-6p",
        "outputId": "455b43da-7b64-4372-e0cd-82afd89b23cd"
      },
      "execution_count": null,
      "outputs": [
        {
          "output_type": "stream",
          "name": "stdout",
          "text": [
            " Krishnang прочитал 12 книг\n",
            " Steve прочитал 6 книг\n",
            " Jimmy не читал ни одной книги!\n",
            " Mary прочитал 7 книг\n",
            " Divya прочитал 4 книг\n",
            " Robert прочитал 10 книг\n",
            " Yulia прочитал 15 книг\n"
          ]
        }
      ]
    },
    {
      "cell_type": "code",
      "source": [
        "people = ['Krishnang', 'Steve', 'Jimmy', 'Mary', 'Divya', 'Robert', 'Yulia']\n",
        "books_read = [12, 6, 0, 7, 4, 10, 15]\n",
        "#словарь\n",
        "people_books_dict = dict(zip(people, books_read))\n",
        "for person, books in people_books_dict.items():\n",
        "    if books == 0:\n",
        "        print(f\"{person} не читал ни одной книги!\")\n",
        "    else:\n",
        "        print(f\" {person} прочитал {books} книг\")"
      ],
      "metadata": {
        "colab": {
          "base_uri": "https://localhost:8080/"
        },
        "id": "qRWPfjr4LHoG",
        "outputId": "2ae076e7-36c7-4bb7-a0bd-19289e49cb82"
      },
      "execution_count": null,
      "outputs": [
        {
          "output_type": "stream",
          "name": "stdout",
          "text": [
            " Krishnang прочитал 12 книг\n",
            " Steve прочитал 6 книг\n",
            "Jimmy не читал ни одной книги!\n",
            " Mary прочитал 7 книг\n",
            " Divya прочитал 4 книг\n",
            " Robert прочитал 10 книг\n",
            " Yulia прочитал 15 книг\n"
          ]
        }
      ]
    },
    {
      "cell_type": "markdown",
      "metadata": {
        "id": "6iHDWYff5Q8D"
      },
      "source": [
        "Преобразуйте только что созданный цикл в функцию, которая принимает два списка (прочитанные книги и людей) в качестве аргументов."
      ]
    },
    {
      "cell_type": "code",
      "execution_count": null,
      "metadata": {
        "colab": {
          "base_uri": "https://localhost:8080/"
        },
        "id": "FnxQFt0O5Q8D",
        "outputId": "df403eec-a95d-4747-c969-0b79f133abc9"
      },
      "outputs": [
        {
          "output_type": "stream",
          "name": "stdout",
          "text": [
            "Krishnang прочитал 12 книг\n",
            "Steve прочитал 6 книг\n",
            "Jimmy не читал ни одной книги!\n",
            "Mary прочитал 7 книг\n",
            "Divya прочитал 4 книг\n",
            "Robert прочитал 10 книг\n",
            "Yulia прочитал 15 книг\n"
          ]
        }
      ],
      "source": [
        "# Ваш код\n",
        "def print_books_read(people_list, books_read_list):\n",
        "    for person, books in zip(people_list, books_read_list):\n",
        "        if books == 0:\n",
        "            print(f\"{person} не читал ни одной книги!\")\n",
        "        else:\n",
        "            print(f\"{person} прочитал {books} книг\")\n",
        "\n",
        "# Пример использования функции\n",
        "people = ['Krishnang', 'Steve', 'Jimmy', 'Mary', 'Divya', 'Robert', 'Yulia']\n",
        "books_read = [12, 6, 0, 7, 4, 10, 15]\n",
        "\n",
        "print_books_read(people, books_read)"
      ]
    },
    {
      "cell_type": "markdown",
      "metadata": {
        "id": "-RJPzhwj5Q8D"
      },
      "source": [
        "Отсортируйте значения `books_read` от большего к меньшему и выведите трех первых людей с количеством прочитанных ими книг. Некоторые возможные способы решения этой задачи включают использование сортировки аргументов `NumPy`, создание словаря и создание кортежей."
      ]
    },
    {
      "cell_type": "code",
      "source": [
        "# Использование сортировки аргументов NumPy\n",
        "\n",
        "import numpy as np\n",
        "\n",
        "# Определение функции print_books_read, которая принимает два списка - people_list и books_read_list\n",
        "def print_books_read(people_list, books_read_list):\n",
        "    # Использование zip для итерации по двум спискам одновременно\n",
        "    for person, books in zip(people_list, books_read_list):\n",
        "        # Если количество книг равно 0, выводится сообщение о том, что человек не читал ни одной книги\n",
        "        if books == 0:\n",
        "            print(f\"{person} не читал ни одной книги!\")\n",
        "        # Иначе выводится количество прочитанных книг для данной персоны\n",
        "        else:\n",
        "            print(f\"{person} прочитал {books} книг\")\n",
        "\n",
        "# Создание списков people и books_read\n",
        "people = ['Krishnang', 'Steve', 'Jimmy', 'Mary', 'Divya', 'Robert', 'Yulia']\n",
        "books_read = [12, 6, 0, 7, 4, 10, 15]\n",
        "\n",
        "# Сортировка значений books_read от большего к меньшему с использованием NumPy и получение индексов в отсортированном порядке\n",
        "sorted_indices = np.argsort(books_read)[::-1][:3]\n",
        "\n",
        "# Итерация по отсортированным индексам для вывода информации о трех людях, которые прочитали наибольшее количество книг\n",
        "for index in sorted_indices:\n",
        "    print(f\"{people[index]} прочитал {books_read[index]} книг\")"
      ],
      "metadata": {
        "colab": {
          "base_uri": "https://localhost:8080/"
        },
        "id": "0wbhkaZmN0tW",
        "outputId": "87de0c24-af23-4113-9114-819b8bab326e"
      },
      "execution_count": null,
      "outputs": [
        {
          "output_type": "stream",
          "name": "stdout",
          "text": [
            "Yulia прочитал 15 книг\n",
            "Krishnang прочитал 12 книг\n",
            "Robert прочитал 10 книг\n"
          ]
        }
      ]
    }
  ],
  "metadata": {
    "colab": {
      "provenance": [],
      "include_colab_link": true
    },
    "kernelspec": {
      "display_name": "Python 3 (ipykernel)",
      "language": "python",
      "name": "python3"
    },
    "language_info": {
      "codemirror_mode": {
        "name": "ipython",
        "version": 3
      },
      "file_extension": ".py",
      "mimetype": "text/x-python",
      "name": "python",
      "nbconvert_exporter": "python",
      "pygments_lexer": "ipython3",
      "version": "3.9.13"
    }
  },
  "nbformat": 4,
  "nbformat_minor": 0
}